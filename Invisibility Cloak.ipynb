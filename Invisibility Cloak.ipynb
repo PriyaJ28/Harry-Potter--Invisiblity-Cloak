{
 "cells": [
  {
   "cell_type": "code",
   "execution_count": 22,
   "metadata": {},
   "outputs": [],
   "source": [
    "import cv2\n",
    "import time\n",
    "import numpy as np"
   ]
  },
  {
   "cell_type": "code",
   "execution_count": 23,
   "metadata": {},
   "outputs": [],
   "source": [
    "cap = cv2.VideoCapture(0)\n",
    "\n",
    "time.sleep(3)\n",
    "\n",
    "backgrd = 0\n",
    "\n",
    "for i in range(30):\n",
    "    _,backgrd = cap.read()\n",
    "\n",
    "#Laterally flip the image\n",
    "backgrd = np.flip(backgrd,axis = 1)"
   ]
  },
  {
   "cell_type": "code",
   "execution_count": 24,
   "metadata": {},
   "outputs": [],
   "source": [
    "count = 0\n",
    "background = 0\n",
    "while(cap.isOpened()):\n",
    "    temp, img = cap.read()\n",
    "    if not temp:\n",
    "        break\n",
    "    count += 1\n",
    "    #laterally flip the image\n",
    "    img = np.flip(img, axis = 1)\n",
    "\n",
    "    #converting RGB into HSV color space\n",
    "    hsv = cv2.cvtColor(img,cv2.COLOR_BGR2HSV)\n",
    "\n",
    "    #range for lower red\n",
    "    lower_red = np.array([0,120,70])\n",
    "    upper_red = np.array([10,255,255])\n",
    "    mask1 = cv2.inRange(hsv, lower_red,upper_red)\n",
    "\n",
    "    #range for lower red\n",
    "    lower_red = np.array([170,120,70])\n",
    "    upper_red = np.array([180,255,255])\n",
    "    mask2 = cv2.inRange(hsv, lower_red,upper_red)\n",
    "\n",
    "    #Generation of final mask to detect red color\n",
    "    mask = mask1+mask2\n",
    "    mask1 = cv2.morphologyEx(mask, cv2.MORPH_OPEN, np.ones((3, 3), np.uint8)) \n",
    "    mask1 = cv2.morphologyEx(mask, cv2.MORPH_DILATE, np.ones((3,3),np.uint8)) \n",
    "    mask2 = cv2.bitwise_not(mask1) \n",
    "\n",
    "    # Generating the final output \n",
    "    res1 = cv2.bitwise_and(img,img,mask=mask2)\n",
    "    # creating image showing static background frame pixels only for the masked region\n",
    "    res2 = cv2.bitwise_and(backgrd, backgrd, mask = mask1)\n",
    "\n",
    "    final_output = cv2.addWeighted(res1, 1, res2, 1, 0) \n",
    "\n",
    "    cv2.imshow(\"INVISIBLE MAN\", final_output) \n",
    "    key = cv2.waitKey(1) & 0xFF\n",
    "    if key == 27:\n",
    "        break\n",
    "cap.release()\n",
    "cv2.destroyAllWindows()   "
   ]
  },
  {
   "cell_type": "code",
   "execution_count": null,
   "metadata": {},
   "outputs": [],
   "source": []
  }
 ],
 "metadata": {
  "kernelspec": {
   "display_name": "Python 3",
   "language": "python",
   "name": "python3"
  },
  "language_info": {
   "codemirror_mode": {
    "name": "ipython",
    "version": 3
   },
   "file_extension": ".py",
   "mimetype": "text/x-python",
   "name": "python",
   "nbconvert_exporter": "python",
   "pygments_lexer": "ipython3",
   "version": "3.7.3"
  }
 },
 "nbformat": 4,
 "nbformat_minor": 2
}
